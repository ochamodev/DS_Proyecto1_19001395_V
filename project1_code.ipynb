{
 "cells": [
  {
   "cell_type": "markdown",
   "id": "55743688-e367-481e-bf5c-ca26d547c778",
   "metadata": {},
   "source": [
    "# Proyecto #1\n",
    "\n",
    "## Course: Data science in Python\n",
    "## Name: Otto Chamo\n",
    "## Carnet: 19001395\n",
    "## Sección: V\n"
   ]
  },
  {
   "cell_type": "markdown",
   "id": "7b39adbd-7075-4476-81fa-f33b8680c391",
   "metadata": {},
   "source": [
    "# 1. Importing libraries"
   ]
  },
  {
   "cell_type": "code",
   "execution_count": 33,
   "id": "f0797d1e-dcfa-4673-b518-4e0d48021594",
   "metadata": {
    "tags": []
   },
   "outputs": [],
   "source": [
    "import numpy as np\n",
    "import pandas as pd\n",
    "import matplotlib.pyplot as plt\n",
    "import seaborn as sns\n",
    "from sklearn.model_selection import train_test_split"
   ]
  },
  {
   "cell_type": "markdown",
   "id": "f3601a82",
   "metadata": {},
   "source": [
    "# 2. Loading dataset"
   ]
  },
  {
   "cell_type": "code",
   "execution_count": 34,
   "id": "4bfddc7f",
   "metadata": {},
   "outputs": [
    {
     "data": {
      "text/html": [
       "<div>\n",
       "<style scoped>\n",
       "    .dataframe tbody tr th:only-of-type {\n",
       "        vertical-align: middle;\n",
       "    }\n",
       "\n",
       "    .dataframe tbody tr th {\n",
       "        vertical-align: top;\n",
       "    }\n",
       "\n",
       "    .dataframe thead th {\n",
       "        text-align: right;\n",
       "    }\n",
       "</style>\n",
       "<table border=\"1\" class=\"dataframe\">\n",
       "  <thead>\n",
       "    <tr style=\"text-align: right;\">\n",
       "      <th></th>\n",
       "      <th>0</th>\n",
       "      <th>1</th>\n",
       "      <th>2</th>\n",
       "      <th>3</th>\n",
       "      <th>4</th>\n",
       "      <th>5</th>\n",
       "    </tr>\n",
       "  </thead>\n",
       "  <tbody>\n",
       "    <tr>\n",
       "      <th>0</th>\n",
       "      <td>208500.0</td>\n",
       "      <td>7.0</td>\n",
       "      <td>856.0</td>\n",
       "      <td>8.0</td>\n",
       "      <td>2003.0</td>\n",
       "      <td>65.0</td>\n",
       "    </tr>\n",
       "    <tr>\n",
       "      <th>1</th>\n",
       "      <td>181500.0</td>\n",
       "      <td>6.0</td>\n",
       "      <td>1262.0</td>\n",
       "      <td>6.0</td>\n",
       "      <td>1976.0</td>\n",
       "      <td>80.0</td>\n",
       "    </tr>\n",
       "    <tr>\n",
       "      <th>2</th>\n",
       "      <td>223500.0</td>\n",
       "      <td>7.0</td>\n",
       "      <td>920.0</td>\n",
       "      <td>6.0</td>\n",
       "      <td>2001.0</td>\n",
       "      <td>68.0</td>\n",
       "    </tr>\n",
       "    <tr>\n",
       "      <th>3</th>\n",
       "      <td>140000.0</td>\n",
       "      <td>7.0</td>\n",
       "      <td>961.0</td>\n",
       "      <td>7.0</td>\n",
       "      <td>1915.0</td>\n",
       "      <td>60.0</td>\n",
       "    </tr>\n",
       "    <tr>\n",
       "      <th>4</th>\n",
       "      <td>250000.0</td>\n",
       "      <td>8.0</td>\n",
       "      <td>1145.0</td>\n",
       "      <td>9.0</td>\n",
       "      <td>2000.0</td>\n",
       "      <td>84.0</td>\n",
       "    </tr>\n",
       "  </tbody>\n",
       "</table>\n",
       "</div>"
      ],
      "text/plain": [
       "          0    1       2    3       4     5\n",
       "0  208500.0  7.0   856.0  8.0  2003.0  65.0\n",
       "1  181500.0  6.0  1262.0  6.0  1976.0  80.0\n",
       "2  223500.0  7.0   920.0  6.0  2001.0  68.0\n",
       "3  140000.0  7.0   961.0  7.0  1915.0  60.0\n",
       "4  250000.0  8.0  1145.0  9.0  2000.0  84.0"
      ]
     },
     "execution_count": 34,
     "metadata": {},
     "output_type": "execute_result"
    }
   ],
   "source": [
    "dataset = pd.DataFrame(np.load('./data/proyecto_training_data.npy'))\n",
    "\n",
    "dataset.head()"
   ]
  },
  {
   "cell_type": "markdown",
   "id": "334bc803",
   "metadata": {},
   "source": [
    "### Renaming columns to their descriptive names provided in 'data/Data fields.txt'"
   ]
  },
  {
   "cell_type": "code",
   "execution_count": 35,
   "id": "2334aabf",
   "metadata": {},
   "outputs": [],
   "source": [
    "SALE_PRICE_COL = \"SalePrice\"\n",
    "OVERALL_QUAL_COL = \"OverallQual\"\n",
    "FIRST_FLOOR_SF_COL = \"1stFlrSF\"\n",
    "TOTAL_ROOMS_ABOVE_GRADE_COL = \"TotRmsAbvGrd\"\n",
    "YEAR_BUILT_COL = \"YearBuilt\"\n",
    "LOT_FRONTAGE_COL = \"LotFrontage\"\n"
   ]
  },
  {
   "cell_type": "code",
   "execution_count": 36,
   "id": "a7109066",
   "metadata": {},
   "outputs": [
    {
     "data": {
      "text/html": [
       "<div>\n",
       "<style scoped>\n",
       "    .dataframe tbody tr th:only-of-type {\n",
       "        vertical-align: middle;\n",
       "    }\n",
       "\n",
       "    .dataframe tbody tr th {\n",
       "        vertical-align: top;\n",
       "    }\n",
       "\n",
       "    .dataframe thead th {\n",
       "        text-align: right;\n",
       "    }\n",
       "</style>\n",
       "<table border=\"1\" class=\"dataframe\">\n",
       "  <thead>\n",
       "    <tr style=\"text-align: right;\">\n",
       "      <th></th>\n",
       "      <th>SalePrice</th>\n",
       "      <th>OverallQual</th>\n",
       "      <th>1stFlrSF</th>\n",
       "      <th>TotRmsAbvGrd</th>\n",
       "      <th>YearBuilt</th>\n",
       "      <th>LotFrontage</th>\n",
       "    </tr>\n",
       "  </thead>\n",
       "  <tbody>\n",
       "    <tr>\n",
       "      <th>0</th>\n",
       "      <td>208500.0</td>\n",
       "      <td>7.0</td>\n",
       "      <td>856.0</td>\n",
       "      <td>8.0</td>\n",
       "      <td>2003.0</td>\n",
       "      <td>65.0</td>\n",
       "    </tr>\n",
       "    <tr>\n",
       "      <th>1</th>\n",
       "      <td>181500.0</td>\n",
       "      <td>6.0</td>\n",
       "      <td>1262.0</td>\n",
       "      <td>6.0</td>\n",
       "      <td>1976.0</td>\n",
       "      <td>80.0</td>\n",
       "    </tr>\n",
       "    <tr>\n",
       "      <th>2</th>\n",
       "      <td>223500.0</td>\n",
       "      <td>7.0</td>\n",
       "      <td>920.0</td>\n",
       "      <td>6.0</td>\n",
       "      <td>2001.0</td>\n",
       "      <td>68.0</td>\n",
       "    </tr>\n",
       "    <tr>\n",
       "      <th>3</th>\n",
       "      <td>140000.0</td>\n",
       "      <td>7.0</td>\n",
       "      <td>961.0</td>\n",
       "      <td>7.0</td>\n",
       "      <td>1915.0</td>\n",
       "      <td>60.0</td>\n",
       "    </tr>\n",
       "    <tr>\n",
       "      <th>4</th>\n",
       "      <td>250000.0</td>\n",
       "      <td>8.0</td>\n",
       "      <td>1145.0</td>\n",
       "      <td>9.0</td>\n",
       "      <td>2000.0</td>\n",
       "      <td>84.0</td>\n",
       "    </tr>\n",
       "  </tbody>\n",
       "</table>\n",
       "</div>"
      ],
      "text/plain": [
       "   SalePrice  OverallQual  1stFlrSF  TotRmsAbvGrd  YearBuilt  LotFrontage\n",
       "0   208500.0          7.0     856.0           8.0     2003.0         65.0\n",
       "1   181500.0          6.0    1262.0           6.0     1976.0         80.0\n",
       "2   223500.0          7.0     920.0           6.0     2001.0         68.0\n",
       "3   140000.0          7.0     961.0           7.0     1915.0         60.0\n",
       "4   250000.0          8.0    1145.0           9.0     2000.0         84.0"
      ]
     },
     "execution_count": 36,
     "metadata": {},
     "output_type": "execute_result"
    }
   ],
   "source": [
    "dataset = dataset.rename(columns={\n",
    "    0: SALE_PRICE_COL,\n",
    "    1: OVERALL_QUAL_COL,\n",
    "    2: FIRST_FLOOR_SF_COL,\n",
    "    3: TOTAL_ROOMS_ABOVE_GRADE_COL,\n",
    "    4: YEAR_BUILT_COL,\n",
    "    5: LOT_FRONTAGE_COL\n",
    "})\n",
    "\n",
    "dataset.head()"
   ]
  },
  {
   "cell_type": "markdown",
   "id": "9eb98229",
   "metadata": {},
   "source": [
    "### Dataset dimension"
   ]
  },
  {
   "cell_type": "code",
   "execution_count": 37,
   "id": "e1a8cd23",
   "metadata": {},
   "outputs": [
    {
     "data": {
      "text/plain": [
       "(1460, 6)"
      ]
     },
     "execution_count": 37,
     "metadata": {},
     "output_type": "execute_result"
    }
   ],
   "source": [
    "dataset.shape"
   ]
  },
  {
   "cell_type": "markdown",
   "id": "68693e3b",
   "metadata": {},
   "source": [
    "## Dataset data types"
   ]
  },
  {
   "cell_type": "code",
   "execution_count": 38,
   "id": "2b4eaac5",
   "metadata": {},
   "outputs": [
    {
     "data": {
      "text/plain": [
       "SalePrice       float64\n",
       "OverallQual     float64\n",
       "1stFlrSF        float64\n",
       "TotRmsAbvGrd    float64\n",
       "YearBuilt       float64\n",
       "LotFrontage     float64\n",
       "dtype: object"
      ]
     },
     "execution_count": 38,
     "metadata": {},
     "output_type": "execute_result"
    }
   ],
   "source": [
    "dataset.dtypes"
   ]
  },
  {
   "cell_type": "markdown",
   "id": "fba1ca59",
   "metadata": {},
   "source": [
    "We want to predict the SalePrice so we take that as our dependent variable $(y)$\n",
    "and we remove it from the dataset"
   ]
  },
  {
   "cell_type": "code",
   "execution_count": 39,
   "id": "6b628490",
   "metadata": {},
   "outputs": [
    {
     "data": {
      "text/html": [
       "<div>\n",
       "<style scoped>\n",
       "    .dataframe tbody tr th:only-of-type {\n",
       "        vertical-align: middle;\n",
       "    }\n",
       "\n",
       "    .dataframe tbody tr th {\n",
       "        vertical-align: top;\n",
       "    }\n",
       "\n",
       "    .dataframe thead th {\n",
       "        text-align: right;\n",
       "    }\n",
       "</style>\n",
       "<table border=\"1\" class=\"dataframe\">\n",
       "  <thead>\n",
       "    <tr style=\"text-align: right;\">\n",
       "      <th></th>\n",
       "      <th>OverallQual</th>\n",
       "      <th>1stFlrSF</th>\n",
       "      <th>TotRmsAbvGrd</th>\n",
       "      <th>YearBuilt</th>\n",
       "      <th>LotFrontage</th>\n",
       "    </tr>\n",
       "  </thead>\n",
       "  <tbody>\n",
       "    <tr>\n",
       "      <th>0</th>\n",
       "      <td>7.0</td>\n",
       "      <td>856.0</td>\n",
       "      <td>8.0</td>\n",
       "      <td>2003.0</td>\n",
       "      <td>65.0</td>\n",
       "    </tr>\n",
       "    <tr>\n",
       "      <th>1</th>\n",
       "      <td>6.0</td>\n",
       "      <td>1262.0</td>\n",
       "      <td>6.0</td>\n",
       "      <td>1976.0</td>\n",
       "      <td>80.0</td>\n",
       "    </tr>\n",
       "    <tr>\n",
       "      <th>2</th>\n",
       "      <td>7.0</td>\n",
       "      <td>920.0</td>\n",
       "      <td>6.0</td>\n",
       "      <td>2001.0</td>\n",
       "      <td>68.0</td>\n",
       "    </tr>\n",
       "    <tr>\n",
       "      <th>3</th>\n",
       "      <td>7.0</td>\n",
       "      <td>961.0</td>\n",
       "      <td>7.0</td>\n",
       "      <td>1915.0</td>\n",
       "      <td>60.0</td>\n",
       "    </tr>\n",
       "    <tr>\n",
       "      <th>4</th>\n",
       "      <td>8.0</td>\n",
       "      <td>1145.0</td>\n",
       "      <td>9.0</td>\n",
       "      <td>2000.0</td>\n",
       "      <td>84.0</td>\n",
       "    </tr>\n",
       "    <tr>\n",
       "      <th>...</th>\n",
       "      <td>...</td>\n",
       "      <td>...</td>\n",
       "      <td>...</td>\n",
       "      <td>...</td>\n",
       "      <td>...</td>\n",
       "    </tr>\n",
       "    <tr>\n",
       "      <th>1455</th>\n",
       "      <td>6.0</td>\n",
       "      <td>953.0</td>\n",
       "      <td>7.0</td>\n",
       "      <td>1999.0</td>\n",
       "      <td>62.0</td>\n",
       "    </tr>\n",
       "    <tr>\n",
       "      <th>1456</th>\n",
       "      <td>6.0</td>\n",
       "      <td>2073.0</td>\n",
       "      <td>7.0</td>\n",
       "      <td>1978.0</td>\n",
       "      <td>85.0</td>\n",
       "    </tr>\n",
       "    <tr>\n",
       "      <th>1457</th>\n",
       "      <td>7.0</td>\n",
       "      <td>1188.0</td>\n",
       "      <td>9.0</td>\n",
       "      <td>1941.0</td>\n",
       "      <td>66.0</td>\n",
       "    </tr>\n",
       "    <tr>\n",
       "      <th>1458</th>\n",
       "      <td>5.0</td>\n",
       "      <td>1078.0</td>\n",
       "      <td>5.0</td>\n",
       "      <td>1950.0</td>\n",
       "      <td>68.0</td>\n",
       "    </tr>\n",
       "    <tr>\n",
       "      <th>1459</th>\n",
       "      <td>5.0</td>\n",
       "      <td>1256.0</td>\n",
       "      <td>6.0</td>\n",
       "      <td>1965.0</td>\n",
       "      <td>75.0</td>\n",
       "    </tr>\n",
       "  </tbody>\n",
       "</table>\n",
       "<p>1460 rows × 5 columns</p>\n",
       "</div>"
      ],
      "text/plain": [
       "      OverallQual  1stFlrSF  TotRmsAbvGrd  YearBuilt  LotFrontage\n",
       "0             7.0     856.0           8.0     2003.0         65.0\n",
       "1             6.0    1262.0           6.0     1976.0         80.0\n",
       "2             7.0     920.0           6.0     2001.0         68.0\n",
       "3             7.0     961.0           7.0     1915.0         60.0\n",
       "4             8.0    1145.0           9.0     2000.0         84.0\n",
       "...           ...       ...           ...        ...          ...\n",
       "1455          6.0     953.0           7.0     1999.0         62.0\n",
       "1456          6.0    2073.0           7.0     1978.0         85.0\n",
       "1457          7.0    1188.0           9.0     1941.0         66.0\n",
       "1458          5.0    1078.0           5.0     1950.0         68.0\n",
       "1459          5.0    1256.0           6.0     1965.0         75.0\n",
       "\n",
       "[1460 rows x 5 columns]"
      ]
     },
     "execution_count": 39,
     "metadata": {},
     "output_type": "execute_result"
    }
   ],
   "source": [
    "y = dataset.SalePrice\n",
    "\n",
    "datasetToWork = dataset.copy().drop(SALE_PRICE_COL, axis=1)\n",
    "\n",
    "datasetToWork"
   ]
  },
  {
   "cell_type": "markdown",
   "id": "de4bff9a",
   "metadata": {},
   "source": [
    "## Splitting in 80% and 20% for validation and testing"
   ]
  },
  {
   "cell_type": "code",
   "execution_count": 40,
   "id": "bf0f310f",
   "metadata": {},
   "outputs": [],
   "source": [
    "x_train, x_test, y_traint, y_test = train_test_split(datasetToWork, y, test_size=0.2)"
   ]
  },
  {
   "cell_type": "markdown",
   "id": "01a12c09",
   "metadata": {},
   "source": [
    "## Exploring some values of the dataset"
   ]
  },
  {
   "cell_type": "code",
   "execution_count": 41,
   "id": "16373208",
   "metadata": {},
   "outputs": [
    {
     "data": {
      "text/html": [
       "<div>\n",
       "<style scoped>\n",
       "    .dataframe tbody tr th:only-of-type {\n",
       "        vertical-align: middle;\n",
       "    }\n",
       "\n",
       "    .dataframe tbody tr th {\n",
       "        vertical-align: top;\n",
       "    }\n",
       "\n",
       "    .dataframe thead th {\n",
       "        text-align: right;\n",
       "    }\n",
       "</style>\n",
       "<table border=\"1\" class=\"dataframe\">\n",
       "  <thead>\n",
       "    <tr style=\"text-align: right;\">\n",
       "      <th></th>\n",
       "      <th>OverallQual</th>\n",
       "      <th>1stFlrSF</th>\n",
       "      <th>TotRmsAbvGrd</th>\n",
       "      <th>YearBuilt</th>\n",
       "      <th>LotFrontage</th>\n",
       "    </tr>\n",
       "  </thead>\n",
       "  <tbody>\n",
       "    <tr>\n",
       "      <th>count</th>\n",
       "      <td>1460.000000</td>\n",
       "      <td>1460.000000</td>\n",
       "      <td>1460.000000</td>\n",
       "      <td>1460.000000</td>\n",
       "      <td>1201.000000</td>\n",
       "    </tr>\n",
       "    <tr>\n",
       "      <th>mean</th>\n",
       "      <td>6.099315</td>\n",
       "      <td>1162.626712</td>\n",
       "      <td>6.517808</td>\n",
       "      <td>1971.267808</td>\n",
       "      <td>70.049958</td>\n",
       "    </tr>\n",
       "    <tr>\n",
       "      <th>std</th>\n",
       "      <td>1.382997</td>\n",
       "      <td>386.587738</td>\n",
       "      <td>1.625393</td>\n",
       "      <td>30.202904</td>\n",
       "      <td>24.284752</td>\n",
       "    </tr>\n",
       "    <tr>\n",
       "      <th>min</th>\n",
       "      <td>1.000000</td>\n",
       "      <td>334.000000</td>\n",
       "      <td>2.000000</td>\n",
       "      <td>1872.000000</td>\n",
       "      <td>21.000000</td>\n",
       "    </tr>\n",
       "    <tr>\n",
       "      <th>25%</th>\n",
       "      <td>5.000000</td>\n",
       "      <td>882.000000</td>\n",
       "      <td>5.000000</td>\n",
       "      <td>1954.000000</td>\n",
       "      <td>59.000000</td>\n",
       "    </tr>\n",
       "    <tr>\n",
       "      <th>50%</th>\n",
       "      <td>6.000000</td>\n",
       "      <td>1087.000000</td>\n",
       "      <td>6.000000</td>\n",
       "      <td>1973.000000</td>\n",
       "      <td>69.000000</td>\n",
       "    </tr>\n",
       "    <tr>\n",
       "      <th>75%</th>\n",
       "      <td>7.000000</td>\n",
       "      <td>1391.250000</td>\n",
       "      <td>7.000000</td>\n",
       "      <td>2000.000000</td>\n",
       "      <td>80.000000</td>\n",
       "    </tr>\n",
       "    <tr>\n",
       "      <th>max</th>\n",
       "      <td>10.000000</td>\n",
       "      <td>4692.000000</td>\n",
       "      <td>14.000000</td>\n",
       "      <td>2010.000000</td>\n",
       "      <td>313.000000</td>\n",
       "    </tr>\n",
       "  </tbody>\n",
       "</table>\n",
       "</div>"
      ],
      "text/plain": [
       "       OverallQual     1stFlrSF  TotRmsAbvGrd    YearBuilt  LotFrontage\n",
       "count  1460.000000  1460.000000   1460.000000  1460.000000  1201.000000\n",
       "mean      6.099315  1162.626712      6.517808  1971.267808    70.049958\n",
       "std       1.382997   386.587738      1.625393    30.202904    24.284752\n",
       "min       1.000000   334.000000      2.000000  1872.000000    21.000000\n",
       "25%       5.000000   882.000000      5.000000  1954.000000    59.000000\n",
       "50%       6.000000  1087.000000      6.000000  1973.000000    69.000000\n",
       "75%       7.000000  1391.250000      7.000000  2000.000000    80.000000\n",
       "max      10.000000  4692.000000     14.000000  2010.000000   313.000000"
      ]
     },
     "execution_count": 41,
     "metadata": {},
     "output_type": "execute_result"
    }
   ],
   "source": [
    "datasetToWork.describe()"
   ]
  },
  {
   "cell_type": "code",
   "execution_count": 42,
   "id": "269e311b",
   "metadata": {},
   "outputs": [],
   "source": [
    "# TODO: peak to peak with range\n",
    "# https://www.w3schools.com/statistics/statistics_range.php\n"
   ]
  },
  {
   "cell_type": "markdown",
   "id": "66a4ba42",
   "metadata": {},
   "source": [
    "## Ploting an histogram for each variable"
   ]
  },
  {
   "cell_type": "code",
   "execution_count": 43,
   "id": "10bc5928",
   "metadata": {},
   "outputs": [],
   "source": [
    "def plot_columns(ds: pd.DataFrame):\n",
    "    columns = ds.columns\n",
    "    for i, col in enumerate(columns):\n",
    "        plt.figure(i)\n",
    "        sns.histplot(ds[col], kde=True,)"
   ]
  },
  {
   "cell_type": "code",
   "execution_count": 44,
   "id": "40eef66a",
   "metadata": {},
   "outputs": [
    {
     "data": {
      "image/png": "[encoded data removed]",
      "text/plain": [
       "<Figure size 640x480 with 1 Axes>"
      ]
     },
     "metadata": {},
     "output_type": "display_data"
    },
    {
     "data": {
      "image/png": "[encoded data removed]",
      "text/plain": [
       "<Figure size 640x480 with 1 Axes>"
      ]
     },
     "metadata": {},
     "output_type": "display_data"
    },
    {
     "data": {
      "image/png": "[encoded data removed]",
      "text/plain": [
       "<Figure size 640x480 with 1 Axes>"
      ]
     },
     "metadata": {},
     "output_type": "display_data"
    },
    {
     "data": {
      "image/png": "[encoded data removed]",
      "text/plain": [
       "<Figure size 640x480 with 1 Axes>"
      ]
     },
     "metadata": {},
     "output_type": "display_data"
    },
    {
     "data": {
      "image/png": "[encoded data removed]",
      "text/plain": [
       "<Figure size 640x480 with 1 Axes>"
      ]
     },
     "metadata": {},
     "output_type": "display_data"
    }
   ],
   "source": [
    "plot_columns(datasetToWork)"
   ]
  },
  {
   "cell_type": "code",
   "execution_count": null,
   "id": "259e054a",
   "metadata": {},
   "outputs": [],
   "source": []
  },
  {
   "cell_type": "markdown",
   "id": "e72f07e3",
   "metadata": {},
   "source": [
    "## Calculating correlation coefficient of each independent variable.\n",
    "\n",
    "The Equation for this coefficient is the following\n",
    "\n",
    "$$\n",
    "    r = \\frac{\\sum x_iy_i}{\\sqrt{(\\sum x_i^2)(\\sum y_i^2)}}\n",
    "$$\n",
    "\n",
    "Where $x_i = (x_i - \\overline{x})$ and $y_i = (y_i - \\overline{y})$\n"
   ]
  },
  {
   "cell_type": "code",
   "execution_count": null,
   "id": "04ee21df",
   "metadata": {},
   "outputs": [],
   "source": []
  },
  {
   "cell_type": "markdown",
   "id": "fb9a45f2",
   "metadata": {},
   "source": []
  },
  {
   "cell_type": "markdown",
   "id": "f167d6f2",
   "metadata": {},
   "source": []
  },
  {
   "cell_type": "markdown",
   "id": "b895bece",
   "metadata": {},
   "source": [
    "## Sources?\n",
    "\n",
    "https://vitalflux.com/pearson-correlation-coefficient-statistical-significance/"
   ]
  }
 ],
 "metadata": {
  "kernelspec": {
   "display_name": "base",
   "language": "python",
   "name": "python3"
  },
  "language_info": {
   "codemirror_mode": {
    "name": "ipython",
    "version": 3
   },
   "file_extension": ".py",
   "mimetype": "text/x-python",
   "name": "python",
   "nbconvert_exporter": "python",
   "pygments_lexer": "ipython3",
   "version": "3.11.5"
  }
 },
 "nbformat": 4,
 "nbformat_minor": 5
}

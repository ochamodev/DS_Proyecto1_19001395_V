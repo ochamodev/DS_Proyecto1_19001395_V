{
 "cells": [
  {
   "cell_type": "markdown",
   "id": "55743688-e367-481e-bf5c-ca26d547c778",
   "metadata": {},
   "source": [
    "# Proyecto #1\n",
    "\n",
    "## Curso: Ciencia de datos en python\n",
    "## Nombre: Otto Chamo\n",
    "## Carnet: 19001395\n",
    "## Sección: V\n"
   ]
  },
  {
   "cell_type": "markdown",
   "id": "7b39adbd-7075-4476-81fa-f33b8680c391",
   "metadata": {},
   "source": [
    "# 1. Importing libraries"
   ]
  },
  {
   "cell_type": "code",
   "execution_count": 1,
   "id": "f0797d1e-dcfa-4673-b518-4e0d48021594",
   "metadata": {
    "tags": []
   },
   "outputs": [],
   "source": [
    "import numpy as np\n",
    "import pandas as pd\n",
    "import matplotlib.pyplot as plt\n",
    "import seaborn as sns\n",
    "import sklearn as skl"
   ]
  }
 ],
 "metadata": {
  "kernelspec": {
   "display_name": "base",
   "language": "python",
   "name": "python3"
  },
  "language_info": {
   "codemirror_mode": {
    "name": "ipython",
    "version": 3
   },
   "file_extension": ".py",
   "mimetype": "text/x-python",
   "name": "python",
   "nbconvert_exporter": "python",
   "pygments_lexer": "ipython3",
   "version": "3.11.5"
  }
 },
 "nbformat": 4,
 "nbformat_minor": 5
}
